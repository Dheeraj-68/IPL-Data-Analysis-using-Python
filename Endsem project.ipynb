{
 "cells": [
  {
   "cell_type": "markdown",
   "id": "76ac029c",
   "metadata": {},
   "source": [
    "<center>\n",
    "    <h1>PYTHON PROGRAMMING</h1>\n",
    "    <h2>ENDSEM PROJECT</h2>\n",
    "    <h2>IPL DATA ANALYSIS</h2>\n",
    "</center>    \n",
    "    <h4>NAME : Dheeraj</h4>\n",
    "    <b>ENROLL NO. : 200330</b>"
   ]
  },
  {
   "cell_type": "markdown",
   "id": "3b764a17",
   "metadata": {},
   "source": [
    "<hr>\n",
    "<b>ABOUT THE FILE</b>\n",
    "<br>\n",
    "'IPL Ball-by-Ball 2008-2020.csv' - Contains the ball by ball data of the whole Indian Premier League tournament from year 2008 to 2020\n",
    "<br>\n",
    "'IPL Matches 2008-2020.csv' - Contains the Information of Matches like teams , venue , umpires etc. , of the whole Indian Premier League tournament from year 2008 to 2020\n",
    "<hr>\n",
    "<b>Data Link :</b>\n",
    "https://www.kaggle.com/patrickb1912/ipl-complete-dataset-20082020\n",
    "<br>"
   ]
  },
  {
   "cell_type": "code",
   "execution_count": 1,
   "id": "2ba46255",
   "metadata": {
    "scrolled": false
   },
   "outputs": [],
   "source": [
    "#importing libraries and files\n",
    "import pandas as pd\n",
    "import numpy as np\n",
    "import matplotlib.pyplot as plt \n",
    "import warnings\n",
    "warnings.filterwarnings(\"ignore\")\n",
    "B_Data = pd.read_csv(\"IPL Ball-by-Ball 2008-2020.csv\")\n",
    "M_Data = pd.read_csv(\"IPL Matches 2008-2020.csv\")"
   ]
  },
  {
   "cell_type": "markdown",
   "id": "a7ba295c",
   "metadata": {},
   "source": [
    "Beginning with the basic Steps , since we have two csv files , we can create a class 'CSVFileInfo' and make the two files as objects of this class and then simple call the 'display_summary' method to get all the basic info of the file."
   ]
  },
  {
   "cell_type": "code",
   "execution_count": 2,
   "id": "b51c34f8",
   "metadata": {
    "scrolled": false
   },
   "outputs": [],
   "source": [
    "class CSVFileInfo:\n",
    "    def __init__(self, path, file_name):\n",
    "        self.path = path\n",
    "        self.file_name = file_name\n",
    "    def display_summary(self):\n",
    "        try:\n",
    "            data = pd.read_csv(self.path + self.file_name)\n",
    "        except FileNotFoundError:\n",
    "            print(\"File Not Found , check file path again !\")\n",
    "        else:\n",
    "            print(self.file_name)\n",
    "            print(data.info())\n",
    "            print(data.head())\n",
    "            print(data.tail())\n",
    "            print(data.isnull().sum())"
   ]
  },
  {
   "cell_type": "code",
   "execution_count": 3,
   "id": "a425ad99",
   "metadata": {
    "scrolled": true
   },
   "outputs": [],
   "source": [
    "BallData = CSVFileInfo(\"C:\\\\Users\\\\Dheeraj Mehlawat\\\\Desktop\\\\4th Semester\\\\Python Programming\\\\ENDSEM PROJECT\\\\\", \"IPL Ball-by-Ball 2008-2020.csv\")\n",
    "MatchData = CSVFileInfo(\"C:\\\\Users\\\\Dheeraj Mehlawat\\\\Desktop\\\\4th Semester\\\\Python Programming\\\\ENDSEM PROJECT\\\\\", \"IPL Matches 2008-2020.csv\")"
   ]
  },
  {
   "cell_type": "code",
   "execution_count": 4,
   "id": "b37afaea",
   "metadata": {
    "scrolled": false
   },
   "outputs": [],
   "source": [
    "newdata = CSVFileInfo(\"C:\\\\Users\\\\Dheeraj Mehlawat\\\\Deskt\",\"NewData\")"
   ]
  },
  {
   "cell_type": "code",
   "execution_count": 5,
   "id": "276c818b",
   "metadata": {
    "scrolled": false
   },
   "outputs": [
    {
     "name": "stdout",
     "output_type": "stream",
     "text": [
      "File Not Found , check file path again !\n"
     ]
    }
   ],
   "source": [
    "newdata.display_summary()"
   ]
  },
  {
   "cell_type": "code",
   "execution_count": 6,
   "id": "4976c51d",
   "metadata": {
    "scrolled": false
   },
   "outputs": [
    {
     "name": "stdout",
     "output_type": "stream",
     "text": [
      "IPL Ball-by-Ball 2008-2020.csv\n",
      "<class 'pandas.core.frame.DataFrame'>\n",
      "RangeIndex: 193468 entries, 0 to 193467\n",
      "Data columns (total 18 columns):\n",
      " #   Column            Non-Null Count   Dtype \n",
      "---  ------            --------------   ----- \n",
      " 0   id                193468 non-null  int64 \n",
      " 1   inning            193468 non-null  int64 \n",
      " 2   over              193468 non-null  int64 \n",
      " 3   ball              193468 non-null  int64 \n",
      " 4   batsman           193468 non-null  object\n",
      " 5   non_striker       193468 non-null  object\n",
      " 6   bowler            193468 non-null  object\n",
      " 7   batsman_runs      193468 non-null  int64 \n",
      " 8   extra_runs        193468 non-null  int64 \n",
      " 9   total_runs        193468 non-null  int64 \n",
      " 10  non_boundary      193468 non-null  int64 \n",
      " 11  is_wicket         193468 non-null  int64 \n",
      " 12  dismissal_kind    9495 non-null    object\n",
      " 13  player_dismissed  9495 non-null    object\n",
      " 14  fielder           6784 non-null    object\n",
      " 15  extras_type       10233 non-null   object\n",
      " 16  batting_team      193468 non-null  object\n",
      " 17  bowling_team      193468 non-null  object\n",
      "dtypes: int64(9), object(9)\n",
      "memory usage: 26.6+ MB\n",
      "None\n",
      "       id  inning  over  ball      batsman  non_striker     bowler  \\\n",
      "0  335982       1     6     5   RT Ponting  BB McCullum  AA Noffke   \n",
      "1  335982       1     6     6  BB McCullum   RT Ponting  AA Noffke   \n",
      "2  335982       1     7     1  BB McCullum   RT Ponting     Z Khan   \n",
      "3  335982       1     7     2  BB McCullum   RT Ponting     Z Khan   \n",
      "4  335982       1     7     3   RT Ponting  BB McCullum     Z Khan   \n",
      "\n",
      "   batsman_runs  extra_runs  total_runs  non_boundary  is_wicket  \\\n",
      "0             1           0           1             0          0   \n",
      "1             1           0           1             0          0   \n",
      "2             0           0           0             0          0   \n",
      "3             1           0           1             0          0   \n",
      "4             1           0           1             0          0   \n",
      "\n",
      "  dismissal_kind player_dismissed fielder extras_type           batting_team  \\\n",
      "0            NaN              NaN     NaN         NaN  Kolkata Knight Riders   \n",
      "1            NaN              NaN     NaN         NaN  Kolkata Knight Riders   \n",
      "2            NaN              NaN     NaN         NaN  Kolkata Knight Riders   \n",
      "3            NaN              NaN     NaN         NaN  Kolkata Knight Riders   \n",
      "4            NaN              NaN     NaN         NaN  Kolkata Knight Riders   \n",
      "\n",
      "                  bowling_team  \n",
      "0  Royal Challengers Bangalore  \n",
      "1  Royal Challengers Bangalore  \n",
      "2  Royal Challengers Bangalore  \n",
      "3  Royal Challengers Bangalore  \n",
      "4  Royal Challengers Bangalore  \n",
      "             id  inning  over  ball  batsman non_striker           bowler  \\\n",
      "193463  1237181       1    12     5  RR Pant     SS Iyer  NM Coulter-Nile   \n",
      "193464  1237181       1    12     6  RR Pant     SS Iyer  NM Coulter-Nile   \n",
      "193465  1237181       1    13     1  RR Pant     SS Iyer        KH Pandya   \n",
      "193466  1237181       1    13     2  RR Pant     SS Iyer        KH Pandya   \n",
      "193467  1237181       1    13     3  SS Iyer     RR Pant        KH Pandya   \n",
      "\n",
      "        batsman_runs  extra_runs  total_runs  non_boundary  is_wicket  \\\n",
      "193463             0           0           0             0          0   \n",
      "193464             1           0           1             0          0   \n",
      "193465             0           1           1             0          0   \n",
      "193466             1           0           1             0          0   \n",
      "193467             1           0           1             0          0   \n",
      "\n",
      "       dismissal_kind player_dismissed fielder extras_type    batting_team  \\\n",
      "193463            NaN              NaN     NaN         NaN  Delhi Capitals   \n",
      "193464            NaN              NaN     NaN         NaN  Delhi Capitals   \n",
      "193465            NaN              NaN     NaN       wides  Delhi Capitals   \n",
      "193466            NaN              NaN     NaN         NaN  Delhi Capitals   \n",
      "193467            NaN              NaN     NaN         NaN  Delhi Capitals   \n",
      "\n",
      "          bowling_team  \n",
      "193463  Mumbai Indians  \n",
      "193464  Mumbai Indians  \n",
      "193465  Mumbai Indians  \n",
      "193466  Mumbai Indians  \n",
      "193467  Mumbai Indians  \n",
      "id                       0\n",
      "inning                   0\n",
      "over                     0\n",
      "ball                     0\n",
      "batsman                  0\n",
      "non_striker              0\n",
      "bowler                   0\n",
      "batsman_runs             0\n",
      "extra_runs               0\n",
      "total_runs               0\n",
      "non_boundary             0\n",
      "is_wicket                0\n",
      "dismissal_kind      183973\n",
      "player_dismissed    183973\n",
      "fielder             186684\n",
      "extras_type         183235\n",
      "batting_team             0\n",
      "bowling_team             0\n",
      "dtype: int64\n"
     ]
    }
   ],
   "source": [
    "BallData.display_summary()"
   ]
  },
  {
   "cell_type": "markdown",
   "id": "79b59a74",
   "metadata": {},
   "source": [
    "We have null values in 4 columns that is 'dismissal_kind' , 'player_dismissed' , 'fielder' and 'extras_type' , which is justified as these columns can only have values if a player is being dismissed , got caught or runout by a feilder , or if extras are given on a delivery . so this data is valid to work upon and no rows need to be dropped or removed ."
   ]
  },
  {
   "cell_type": "code",
   "execution_count": 7,
   "id": "04c0dad1",
   "metadata": {
    "scrolled": false
   },
   "outputs": [
    {
     "name": "stdout",
     "output_type": "stream",
     "text": [
      "IPL Matches 2008-2020.csv\n",
      "<class 'pandas.core.frame.DataFrame'>\n",
      "RangeIndex: 816 entries, 0 to 815\n",
      "Data columns (total 17 columns):\n",
      " #   Column           Non-Null Count  Dtype  \n",
      "---  ------           --------------  -----  \n",
      " 0   id               816 non-null    int64  \n",
      " 1   city             803 non-null    object \n",
      " 2   date             816 non-null    object \n",
      " 3   player_of_match  812 non-null    object \n",
      " 4   venue            816 non-null    object \n",
      " 5   neutral_venue    816 non-null    int64  \n",
      " 6   team1            816 non-null    object \n",
      " 7   team2            816 non-null    object \n",
      " 8   toss_winner      816 non-null    object \n",
      " 9   toss_decision    816 non-null    object \n",
      " 10  winner           812 non-null    object \n",
      " 11  result           812 non-null    object \n",
      " 12  result_margin    799 non-null    float64\n",
      " 13  eliminator       812 non-null    object \n",
      " 14  method           19 non-null     object \n",
      " 15  umpire1          816 non-null    object \n",
      " 16  umpire2          816 non-null    object \n",
      "dtypes: float64(1), int64(2), object(14)\n",
      "memory usage: 108.5+ KB\n",
      "None\n",
      "       id        city        date player_of_match  \\\n",
      "0  335982   Bangalore  2008-04-18     BB McCullum   \n",
      "1  335983  Chandigarh  2008-04-19      MEK Hussey   \n",
      "2  335984       Delhi  2008-04-19     MF Maharoof   \n",
      "3  335985      Mumbai  2008-04-20      MV Boucher   \n",
      "4  335986     Kolkata  2008-04-20       DJ Hussey   \n",
      "\n",
      "                                        venue  neutral_venue  \\\n",
      "0                       M Chinnaswamy Stadium              0   \n",
      "1  Punjab Cricket Association Stadium, Mohali              0   \n",
      "2                            Feroz Shah Kotla              0   \n",
      "3                            Wankhede Stadium              0   \n",
      "4                                Eden Gardens              0   \n",
      "\n",
      "                         team1                        team2  \\\n",
      "0  Royal Challengers Bangalore        Kolkata Knight Riders   \n",
      "1              Kings XI Punjab          Chennai Super Kings   \n",
      "2             Delhi Daredevils             Rajasthan Royals   \n",
      "3               Mumbai Indians  Royal Challengers Bangalore   \n",
      "4        Kolkata Knight Riders              Deccan Chargers   \n",
      "\n",
      "                   toss_winner toss_decision                       winner  \\\n",
      "0  Royal Challengers Bangalore         field        Kolkata Knight Riders   \n",
      "1          Chennai Super Kings           bat          Chennai Super Kings   \n",
      "2             Rajasthan Royals           bat             Delhi Daredevils   \n",
      "3               Mumbai Indians           bat  Royal Challengers Bangalore   \n",
      "4              Deccan Chargers           bat        Kolkata Knight Riders   \n",
      "\n",
      "    result  result_margin eliminator method    umpire1         umpire2  \n",
      "0     runs          140.0          N    NaN  Asad Rauf     RE Koertzen  \n",
      "1     runs           33.0          N    NaN  MR Benson      SL Shastri  \n",
      "2  wickets            9.0          N    NaN  Aleem Dar  GA Pratapkumar  \n",
      "3  wickets            5.0          N    NaN   SJ Davis       DJ Harper  \n",
      "4  wickets            5.0          N    NaN  BF Bowden     K Hariharan  \n",
      "          id       city        date player_of_match  \\\n",
      "811  1216547      Dubai  2020-09-28  AB de Villiers   \n",
      "812  1237177      Dubai  2020-11-05       JJ Bumrah   \n",
      "813  1237178  Abu Dhabi  2020-11-06   KS Williamson   \n",
      "814  1237180  Abu Dhabi  2020-11-08      MP Stoinis   \n",
      "815  1237181      Dubai  2020-11-10        TA Boult   \n",
      "\n",
      "                                   venue  neutral_venue  \\\n",
      "811  Dubai International Cricket Stadium              0   \n",
      "812  Dubai International Cricket Stadium              0   \n",
      "813                 Sheikh Zayed Stadium              0   \n",
      "814                 Sheikh Zayed Stadium              0   \n",
      "815  Dubai International Cricket Stadium              0   \n",
      "\n",
      "                           team1                team2          toss_winner  \\\n",
      "811  Royal Challengers Bangalore       Mumbai Indians       Mumbai Indians   \n",
      "812               Mumbai Indians       Delhi Capitals       Delhi Capitals   \n",
      "813  Royal Challengers Bangalore  Sunrisers Hyderabad  Sunrisers Hyderabad   \n",
      "814               Delhi Capitals  Sunrisers Hyderabad       Delhi Capitals   \n",
      "815               Delhi Capitals       Mumbai Indians       Delhi Capitals   \n",
      "\n",
      "    toss_decision                       winner   result  result_margin  \\\n",
      "811         field  Royal Challengers Bangalore      tie            NaN   \n",
      "812         field               Mumbai Indians     runs           57.0   \n",
      "813         field          Sunrisers Hyderabad  wickets            6.0   \n",
      "814           bat               Delhi Capitals     runs           17.0   \n",
      "815           bat               Mumbai Indians  wickets            5.0   \n",
      "\n",
      "    eliminator method      umpire1      umpire2  \n",
      "811          Y    NaN  Nitin Menon   PR Reiffel  \n",
      "812          N    NaN  CB Gaffaney  Nitin Menon  \n",
      "813          N    NaN   PR Reiffel       S Ravi  \n",
      "814          N    NaN   PR Reiffel       S Ravi  \n",
      "815          N    NaN  CB Gaffaney  Nitin Menon  \n",
      "id                   0\n",
      "city                13\n",
      "date                 0\n",
      "player_of_match      4\n",
      "venue                0\n",
      "neutral_venue        0\n",
      "team1                0\n",
      "team2                0\n",
      "toss_winner          0\n",
      "toss_decision        0\n",
      "winner               4\n",
      "result               4\n",
      "result_margin       17\n",
      "eliminator           4\n",
      "method             797\n",
      "umpire1              0\n",
      "umpire2              0\n",
      "dtype: int64\n"
     ]
    }
   ],
   "source": [
    "MatchData.display_summary()"
   ]
  },
  {
   "cell_type": "markdown",
   "id": "36885686",
   "metadata": {},
   "source": [
    "# 1. BEST PLAYERS IN ALL CATEGORIES"
   ]
  },
  {
   "cell_type": "markdown",
   "id": "a217c7fd",
   "metadata": {},
   "source": [
    "# 1.1 TOP RUN SCORER"
   ]
  },
  {
   "cell_type": "code",
   "execution_count": 8,
   "id": "f6f300d8",
   "metadata": {
    "scrolled": false
   },
   "outputs": [],
   "source": [
    "run_scorers = B_Data.groupby('batsman')['batsman_runs'].sum().sort_values(ascending = False).head(10).reset_index().rename(columns={'batsman_runs':'Total_Runs'})"
   ]
  },
  {
   "cell_type": "code",
   "execution_count": 9,
   "id": "3034bf9f",
   "metadata": {
    "scrolled": false
   },
   "outputs": [
    {
     "data": {
      "text/html": [
       "<div>\n",
       "<style scoped>\n",
       "    .dataframe tbody tr th:only-of-type {\n",
       "        vertical-align: middle;\n",
       "    }\n",
       "\n",
       "    .dataframe tbody tr th {\n",
       "        vertical-align: top;\n",
       "    }\n",
       "\n",
       "    .dataframe thead th {\n",
       "        text-align: right;\n",
       "    }\n",
       "</style>\n",
       "<table border=\"1\" class=\"dataframe\">\n",
       "  <thead>\n",
       "    <tr style=\"text-align: right;\">\n",
       "      <th></th>\n",
       "      <th>batsman</th>\n",
       "      <th>Total_Runs</th>\n",
       "    </tr>\n",
       "  </thead>\n",
       "  <tbody>\n",
       "    <tr>\n",
       "      <th>0</th>\n",
       "      <td>V Kohli</td>\n",
       "      <td>5878</td>\n",
       "    </tr>\n",
       "    <tr>\n",
       "      <th>1</th>\n",
       "      <td>SK Raina</td>\n",
       "      <td>5368</td>\n",
       "    </tr>\n",
       "    <tr>\n",
       "      <th>2</th>\n",
       "      <td>DA Warner</td>\n",
       "      <td>5254</td>\n",
       "    </tr>\n",
       "    <tr>\n",
       "      <th>3</th>\n",
       "      <td>RG Sharma</td>\n",
       "      <td>5230</td>\n",
       "    </tr>\n",
       "    <tr>\n",
       "      <th>4</th>\n",
       "      <td>S Dhawan</td>\n",
       "      <td>5197</td>\n",
       "    </tr>\n",
       "    <tr>\n",
       "      <th>5</th>\n",
       "      <td>AB de Villiers</td>\n",
       "      <td>4849</td>\n",
       "    </tr>\n",
       "    <tr>\n",
       "      <th>6</th>\n",
       "      <td>CH Gayle</td>\n",
       "      <td>4772</td>\n",
       "    </tr>\n",
       "    <tr>\n",
       "      <th>7</th>\n",
       "      <td>MS Dhoni</td>\n",
       "      <td>4632</td>\n",
       "    </tr>\n",
       "    <tr>\n",
       "      <th>8</th>\n",
       "      <td>RV Uthappa</td>\n",
       "      <td>4607</td>\n",
       "    </tr>\n",
       "    <tr>\n",
       "      <th>9</th>\n",
       "      <td>G Gambhir</td>\n",
       "      <td>4217</td>\n",
       "    </tr>\n",
       "  </tbody>\n",
       "</table>\n",
       "</div>"
      ],
      "text/plain": [
       "          batsman  Total_Runs\n",
       "0         V Kohli        5878\n",
       "1        SK Raina        5368\n",
       "2       DA Warner        5254\n",
       "3       RG Sharma        5230\n",
       "4        S Dhawan        5197\n",
       "5  AB de Villiers        4849\n",
       "6        CH Gayle        4772\n",
       "7        MS Dhoni        4632\n",
       "8      RV Uthappa        4607\n",
       "9       G Gambhir        4217"
      ]
     },
     "execution_count": 9,
     "metadata": {},
     "output_type": "execute_result"
    }
   ],
   "source": [
    "run_scorers"
   ]
  },
  {
   "cell_type": "code",
   "execution_count": 10,
   "id": "1896aa1c",
   "metadata": {
    "scrolled": false
   },
   "outputs": [
    {
     "data": {
      "image/png": "[encoded data removed]",
      "text/plain": [
       "<Figure size 1080x360 with 1 Axes>"
      ]
     },
     "metadata": {
      "needs_background": "light"
     },
     "output_type": "display_data"
    }
   ],
   "source": [
    "fig = plt.figure(figsize = (15, 5))\n",
    "plt.bar(run_scorers['batsman'],run_scorers['Total_Runs'],color ='maroon',width = 0.4)\n",
    "plt.title(\"TOP RUN SCORERS\")\n",
    "plt.xlabel(\"BATSMAN\")\n",
    "plt.ylabel(\"RUNS SCORED\")\n",
    "plt.show()"
   ]
  },
  {
   "cell_type": "markdown",
   "id": "c903cd2d",
   "metadata": {},
   "source": [
    "# 1.2 TOP WICKET TAKER"
   ]
  },
  {
   "cell_type": "code",
   "execution_count": 11,
   "id": "aa4b076f",
   "metadata": {
    "scrolled": false
   },
   "outputs": [
    {
     "data": {
      "text/plain": [
       "array([nan, 'caught', 'run out', 'bowled', 'lbw', 'retired hurt',\n",
       "       'stumped', 'caught and bowled', 'hit wicket',\n",
       "       'obstructing the field'], dtype=object)"
      ]
     },
     "execution_count": 11,
     "metadata": {},
     "output_type": "execute_result"
    }
   ],
   "source": [
    "B_Data['dismissal_kind'].unique()"
   ]
  },
  {
   "cell_type": "markdown",
   "id": "176aa82b",
   "metadata": {},
   "source": [
    "Among these only those wickets are considered as bowler's wicket where dismissal kind is 'caught' , 'bowled' , 'lbw', \n",
    "      'stumped' , 'caught and bowled' or 'hit wicket'"
   ]
  },
  {
   "cell_type": "code",
   "execution_count": 12,
   "id": "fc331f6d",
   "metadata": {
    "scrolled": false
   },
   "outputs": [],
   "source": [
    "BowlersWicket = [ 'caught' , 'bowled' , 'lbw', 'stumped' , 'caught and bowled' , 'hit wicket']"
   ]
  },
  {
   "cell_type": "code",
   "execution_count": 13,
   "id": "f5c2be27",
   "metadata": {
    "scrolled": false
   },
   "outputs": [],
   "source": [
    "BowlerWicketData = B_Data[B_Data['dismissal_kind'].isin(BowlersWicket)]"
   ]
  },
  {
   "cell_type": "code",
   "execution_count": 14,
   "id": "2396b639",
   "metadata": {
    "scrolled": false
   },
   "outputs": [],
   "source": [
    "wicket_takers = BowlerWicketData.groupby('bowler')['is_wicket'].count().sort_values(ascending = False).head(10).reset_index().rename(columns={'is_wicket':'Total_Wickets'})"
   ]
  },
  {
   "cell_type": "code",
   "execution_count": 15,
   "id": "3aff547a",
   "metadata": {
    "scrolled": false
   },
   "outputs": [
    {
     "data": {
      "text/html": [
       "<div>\n",
       "<style scoped>\n",
       "    .dataframe tbody tr th:only-of-type {\n",
       "        vertical-align: middle;\n",
       "    }\n",
       "\n",
       "    .dataframe tbody tr th {\n",
       "        vertical-align: top;\n",
       "    }\n",
       "\n",
       "    .dataframe thead th {\n",
       "        text-align: right;\n",
       "    }\n",
       "</style>\n",
       "<table border=\"1\" class=\"dataframe\">\n",
       "  <thead>\n",
       "    <tr style=\"text-align: right;\">\n",
       "      <th></th>\n",
       "      <th>bowler</th>\n",
       "      <th>Total_Wickets</th>\n",
       "    </tr>\n",
       "  </thead>\n",
       "  <tbody>\n",
       "    <tr>\n",
       "      <th>0</th>\n",
       "      <td>SL Malinga</td>\n",
       "      <td>170</td>\n",
       "    </tr>\n",
       "    <tr>\n",
       "      <th>1</th>\n",
       "      <td>A Mishra</td>\n",
       "      <td>160</td>\n",
       "    </tr>\n",
       "    <tr>\n",
       "      <th>2</th>\n",
       "      <td>PP Chawla</td>\n",
       "      <td>156</td>\n",
       "    </tr>\n",
       "    <tr>\n",
       "      <th>3</th>\n",
       "      <td>DJ Bravo</td>\n",
       "      <td>153</td>\n",
       "    </tr>\n",
       "    <tr>\n",
       "      <th>4</th>\n",
       "      <td>Harbhajan Singh</td>\n",
       "      <td>150</td>\n",
       "    </tr>\n",
       "    <tr>\n",
       "      <th>5</th>\n",
       "      <td>R Ashwin</td>\n",
       "      <td>138</td>\n",
       "    </tr>\n",
       "    <tr>\n",
       "      <th>6</th>\n",
       "      <td>B Kumar</td>\n",
       "      <td>136</td>\n",
       "    </tr>\n",
       "    <tr>\n",
       "      <th>7</th>\n",
       "      <td>SP Narine</td>\n",
       "      <td>127</td>\n",
       "    </tr>\n",
       "    <tr>\n",
       "      <th>8</th>\n",
       "      <td>YS Chahal</td>\n",
       "      <td>121</td>\n",
       "    </tr>\n",
       "    <tr>\n",
       "      <th>9</th>\n",
       "      <td>UT Yadav</td>\n",
       "      <td>119</td>\n",
       "    </tr>\n",
       "  </tbody>\n",
       "</table>\n",
       "</div>"
      ],
      "text/plain": [
       "            bowler  Total_Wickets\n",
       "0       SL Malinga            170\n",
       "1         A Mishra            160\n",
       "2        PP Chawla            156\n",
       "3         DJ Bravo            153\n",
       "4  Harbhajan Singh            150\n",
       "5         R Ashwin            138\n",
       "6          B Kumar            136\n",
       "7        SP Narine            127\n",
       "8        YS Chahal            121\n",
       "9         UT Yadav            119"
      ]
     },
     "execution_count": 15,
     "metadata": {},
     "output_type": "execute_result"
    }
   ],
   "source": [
    "wicket_takers"
   ]
  },
  {
   "cell_type": "code",
   "execution_count": 16,
   "id": "2a64967a",
   "metadata": {
    "scrolled": false
   },
   "outputs": [
    {
     "data": {
      "image/png": "[encoded data removed]",
      "text/plain": [
       "<Figure size 1080x360 with 1 Axes>"
      ]
     },
     "metadata": {
      "needs_background": "light"
     },
     "output_type": "display_data"
    }
   ],
   "source": [
    "fig = plt.figure(figsize = (15, 5))\n",
    "plt.bar(wicket_takers['bowler'],wicket_takers['Total_Wickets'],color ='maroon',width = 0.4)\n",
    "plt.title(\"TOP WICKET TAKERS\")\n",
    "plt.xlabel(\"BOWLER\")\n",
    "plt.ylabel(\"WICKETS TAKEN\")\n",
    "plt.show()"
   ]
  },
  {
   "cell_type": "markdown",
   "id": "8e2181b6",
   "metadata": {},
   "source": [
    "# 1.3 BATSMEN WITH MOST BOUNDARIES ( 4's + 6's )"
   ]
  },
  {
   "cell_type": "code",
   "execution_count": 17,
   "id": "5fc3ebd0",
   "metadata": {
    "scrolled": false
   },
   "outputs": [],
   "source": [
    "BoundaryData = B_Data[B_Data['batsman_runs'].isin([4,6])].reset_index()"
   ]
  },
  {
   "cell_type": "code",
   "execution_count": 18,
   "id": "18390228",
   "metadata": {
    "scrolled": false
   },
   "outputs": [],
   "source": [
    "boundaries = BoundaryData.groupby('batsman')['batsman_runs'].count().sort_values(ascending = False).head(10).reset_index().rename(columns={'batsman_runs':'Total_Boundaries'})"
   ]
  },
  {
   "cell_type": "code",
   "execution_count": 19,
   "id": "a50db7bb",
   "metadata": {
    "scrolled": false
   },
   "outputs": [
    {
     "data": {
      "text/html": [
       "<div>\n",
       "<style scoped>\n",
       "    .dataframe tbody tr th:only-of-type {\n",
       "        vertical-align: middle;\n",
       "    }\n",
       "\n",
       "    .dataframe tbody tr th {\n",
       "        vertical-align: top;\n",
       "    }\n",
       "\n",
       "    .dataframe thead th {\n",
       "        text-align: right;\n",
       "    }\n",
       "</style>\n",
       "<table border=\"1\" class=\"dataframe\">\n",
       "  <thead>\n",
       "    <tr style=\"text-align: right;\">\n",
       "      <th></th>\n",
       "      <th>batsman</th>\n",
       "      <th>Total_Boundaries</th>\n",
       "    </tr>\n",
       "  </thead>\n",
       "  <tbody>\n",
       "    <tr>\n",
       "      <th>0</th>\n",
       "      <td>CH Gayle</td>\n",
       "      <td>733</td>\n",
       "    </tr>\n",
       "    <tr>\n",
       "      <th>1</th>\n",
       "      <td>V Kohli</td>\n",
       "      <td>706</td>\n",
       "    </tr>\n",
       "    <tr>\n",
       "      <th>2</th>\n",
       "      <td>DA Warner</td>\n",
       "      <td>705</td>\n",
       "    </tr>\n",
       "    <tr>\n",
       "      <th>3</th>\n",
       "      <td>S Dhawan</td>\n",
       "      <td>700</td>\n",
       "    </tr>\n",
       "    <tr>\n",
       "      <th>4</th>\n",
       "      <td>SK Raina</td>\n",
       "      <td>687</td>\n",
       "    </tr>\n",
       "    <tr>\n",
       "      <th>5</th>\n",
       "      <td>RG Sharma</td>\n",
       "      <td>672</td>\n",
       "    </tr>\n",
       "    <tr>\n",
       "      <th>6</th>\n",
       "      <td>AB de Villiers</td>\n",
       "      <td>625</td>\n",
       "    </tr>\n",
       "    <tr>\n",
       "      <th>7</th>\n",
       "      <td>RV Uthappa</td>\n",
       "      <td>617</td>\n",
       "    </tr>\n",
       "    <tr>\n",
       "      <th>8</th>\n",
       "      <td>SR Watson</td>\n",
       "      <td>566</td>\n",
       "    </tr>\n",
       "    <tr>\n",
       "      <th>9</th>\n",
       "      <td>G Gambhir</td>\n",
       "      <td>551</td>\n",
       "    </tr>\n",
       "  </tbody>\n",
       "</table>\n",
       "</div>"
      ],
      "text/plain": [
       "          batsman  Total_Boundaries\n",
       "0        CH Gayle               733\n",
       "1         V Kohli               706\n",
       "2       DA Warner               705\n",
       "3        S Dhawan               700\n",
       "4        SK Raina               687\n",
       "5       RG Sharma               672\n",
       "6  AB de Villiers               625\n",
       "7      RV Uthappa               617\n",
       "8       SR Watson               566\n",
       "9       G Gambhir               551"
      ]
     },
     "execution_count": 19,
     "metadata": {},
     "output_type": "execute_result"
    }
   ],
   "source": [
    "boundaries"
   ]
  },
  {
   "cell_type": "code",
   "execution_count": 20,
   "id": "794f9418",
   "metadata": {
    "scrolled": false
   },
   "outputs": [
    {
     "data": {
      "image/png": "[encoded data removed]",
      "text/plain": [
       "<Figure size 1080x360 with 1 Axes>"
      ]
     },
     "metadata": {
      "needs_background": "light"
     },
     "output_type": "display_data"
    }
   ],
   "source": [
    "fig = plt.figure(figsize = (15, 5))\n",
    "plt.bar(boundaries['batsman'],boundaries['Total_Boundaries'],color ='maroon',width = 0.4)\n",
    "plt.title(\"BATSMAN WITH MOST BOUNDARIES\")\n",
    "plt.xlabel(\"BATSMAN\")\n",
    "plt.ylabel(\"BOUNDARY COUNT\")\n",
    "plt.show()"
   ]
  },
  {
   "cell_type": "markdown",
   "id": "a479e2b0",
   "metadata": {},
   "source": [
    "# 1.4 MOST 'PLAYER OF THE MATCH' AWARDS"
   ]
  },
  {
   "cell_type": "code",
   "execution_count": 21,
   "id": "41fb0c2a",
   "metadata": {
    "scrolled": false
   },
   "outputs": [],
   "source": [
    "playerofmatch = M_Data.groupby('player_of_match')['id'].count().sort_values(ascending = False).head(10).reset_index().rename(columns={'player_of_match':'Player Name','id':'Award count'})"
   ]
  },
  {
   "cell_type": "code",
   "execution_count": 22,
   "id": "4259a0ef",
   "metadata": {
    "scrolled": false
   },
   "outputs": [
    {
     "data": {
      "text/html": [
       "<div>\n",
       "<style scoped>\n",
       "    .dataframe tbody tr th:only-of-type {\n",
       "        vertical-align: middle;\n",
       "    }\n",
       "\n",
       "    .dataframe tbody tr th {\n",
       "        vertical-align: top;\n",
       "    }\n",
       "\n",
       "    .dataframe thead th {\n",
       "        text-align: right;\n",
       "    }\n",
       "</style>\n",
       "<table border=\"1\" class=\"dataframe\">\n",
       "  <thead>\n",
       "    <tr style=\"text-align: right;\">\n",
       "      <th></th>\n",
       "      <th>Player Name</th>\n",
       "      <th>Award count</th>\n",
       "    </tr>\n",
       "  </thead>\n",
       "  <tbody>\n",
       "    <tr>\n",
       "      <th>0</th>\n",
       "      <td>AB de Villiers</td>\n",
       "      <td>23</td>\n",
       "    </tr>\n",
       "    <tr>\n",
       "      <th>1</th>\n",
       "      <td>CH Gayle</td>\n",
       "      <td>22</td>\n",
       "    </tr>\n",
       "    <tr>\n",
       "      <th>2</th>\n",
       "      <td>RG Sharma</td>\n",
       "      <td>18</td>\n",
       "    </tr>\n",
       "    <tr>\n",
       "      <th>3</th>\n",
       "      <td>DA Warner</td>\n",
       "      <td>17</td>\n",
       "    </tr>\n",
       "    <tr>\n",
       "      <th>4</th>\n",
       "      <td>MS Dhoni</td>\n",
       "      <td>17</td>\n",
       "    </tr>\n",
       "    <tr>\n",
       "      <th>5</th>\n",
       "      <td>YK Pathan</td>\n",
       "      <td>16</td>\n",
       "    </tr>\n",
       "    <tr>\n",
       "      <th>6</th>\n",
       "      <td>SR Watson</td>\n",
       "      <td>16</td>\n",
       "    </tr>\n",
       "    <tr>\n",
       "      <th>7</th>\n",
       "      <td>SK Raina</td>\n",
       "      <td>14</td>\n",
       "    </tr>\n",
       "    <tr>\n",
       "      <th>8</th>\n",
       "      <td>V Kohli</td>\n",
       "      <td>13</td>\n",
       "    </tr>\n",
       "    <tr>\n",
       "      <th>9</th>\n",
       "      <td>G Gambhir</td>\n",
       "      <td>13</td>\n",
       "    </tr>\n",
       "  </tbody>\n",
       "</table>\n",
       "</div>"
      ],
      "text/plain": [
       "      Player Name  Award count\n",
       "0  AB de Villiers           23\n",
       "1        CH Gayle           22\n",
       "2       RG Sharma           18\n",
       "3       DA Warner           17\n",
       "4        MS Dhoni           17\n",
       "5       YK Pathan           16\n",
       "6       SR Watson           16\n",
       "7        SK Raina           14\n",
       "8         V Kohli           13\n",
       "9       G Gambhir           13"
      ]
     },
     "execution_count": 22,
     "metadata": {},
     "output_type": "execute_result"
    }
   ],
   "source": [
    "playerofmatch"
   ]
  },
  {
   "cell_type": "code",
   "execution_count": 23,
   "id": "b416cc40",
   "metadata": {
    "scrolled": false
   },
   "outputs": [
    {
     "data": {
      "image/png": "[encoded data removed]",
      "text/plain": [
       "<Figure size 1080x360 with 1 Axes>"
      ]
     },
     "metadata": {
      "needs_background": "light"
     },
     "output_type": "display_data"
    }
   ],
   "source": [
    "fig = plt.figure(figsize = (15, 5))\n",
    "plt.bar(playerofmatch['Player Name'],playerofmatch['Award count'],color ='maroon',width = 0.4)\n",
    "plt.title('MOST \"PLAYER OF THE MATCH\" AWARDS')\n",
    "plt.xlabel(\"PLAYER\")\n",
    "plt.ylabel(\"no. of Awards\")\n",
    "plt.show()"
   ]
  },
  {
   "cell_type": "markdown",
   "id": "4bb06fba",
   "metadata": {},
   "source": [
    "# 1.5 MOST 50+ SCORES BY A BATSMAN"
   ]
  },
  {
   "cell_type": "code",
   "execution_count": 24,
   "id": "984122dc",
   "metadata": {
    "scrolled": false
   },
   "outputs": [],
   "source": [
    "PlayerScores = B_Data.groupby(['id','batsman'])['batsman_runs'].sum().reset_index().rename(columns={'id':'50+ Scores'})"
   ]
  },
  {
   "cell_type": "code",
   "execution_count": 25,
   "id": "f1c68a5b",
   "metadata": {
    "scrolled": false
   },
   "outputs": [],
   "source": [
    "fiftyplus = PlayerScores[PlayerScores['batsman_runs']>=50].groupby(['batsman']).count().sort_values(by = 'batsman_runs',ascending = False).head(10).reset_index().rename(columns={'id':'50+ Scores'}).drop(['batsman_runs'], axis = 1)"
   ]
  },
  {
   "cell_type": "code",
   "execution_count": 26,
   "id": "0c79da22",
   "metadata": {
    "scrolled": false
   },
   "outputs": [
    {
     "data": {
      "text/html": [
       "<div>\n",
       "<style scoped>\n",
       "    .dataframe tbody tr th:only-of-type {\n",
       "        vertical-align: middle;\n",
       "    }\n",
       "\n",
       "    .dataframe tbody tr th {\n",
       "        vertical-align: top;\n",
       "    }\n",
       "\n",
       "    .dataframe thead th {\n",
       "        text-align: right;\n",
       "    }\n",
       "</style>\n",
       "<table border=\"1\" class=\"dataframe\">\n",
       "  <thead>\n",
       "    <tr style=\"text-align: right;\">\n",
       "      <th></th>\n",
       "      <th>batsman</th>\n",
       "      <th>50+ Scores</th>\n",
       "    </tr>\n",
       "  </thead>\n",
       "  <tbody>\n",
       "    <tr>\n",
       "      <th>0</th>\n",
       "      <td>DA Warner</td>\n",
       "      <td>52</td>\n",
       "    </tr>\n",
       "    <tr>\n",
       "      <th>1</th>\n",
       "      <td>V Kohli</td>\n",
       "      <td>44</td>\n",
       "    </tr>\n",
       "    <tr>\n",
       "      <th>2</th>\n",
       "      <td>S Dhawan</td>\n",
       "      <td>43</td>\n",
       "    </tr>\n",
       "    <tr>\n",
       "      <th>3</th>\n",
       "      <td>AB de Villiers</td>\n",
       "      <td>41</td>\n",
       "    </tr>\n",
       "    <tr>\n",
       "      <th>4</th>\n",
       "      <td>RG Sharma</td>\n",
       "      <td>40</td>\n",
       "    </tr>\n",
       "    <tr>\n",
       "      <th>5</th>\n",
       "      <td>SK Raina</td>\n",
       "      <td>39</td>\n",
       "    </tr>\n",
       "    <tr>\n",
       "      <th>6</th>\n",
       "      <td>CH Gayle</td>\n",
       "      <td>37</td>\n",
       "    </tr>\n",
       "    <tr>\n",
       "      <th>7</th>\n",
       "      <td>G Gambhir</td>\n",
       "      <td>36</td>\n",
       "    </tr>\n",
       "    <tr>\n",
       "      <th>8</th>\n",
       "      <td>AM Rahane</td>\n",
       "      <td>30</td>\n",
       "    </tr>\n",
       "    <tr>\n",
       "      <th>9</th>\n",
       "      <td>SR Watson</td>\n",
       "      <td>25</td>\n",
       "    </tr>\n",
       "  </tbody>\n",
       "</table>\n",
       "</div>"
      ],
      "text/plain": [
       "          batsman  50+ Scores\n",
       "0       DA Warner          52\n",
       "1         V Kohli          44\n",
       "2        S Dhawan          43\n",
       "3  AB de Villiers          41\n",
       "4       RG Sharma          40\n",
       "5        SK Raina          39\n",
       "6        CH Gayle          37\n",
       "7       G Gambhir          36\n",
       "8       AM Rahane          30\n",
       "9       SR Watson          25"
      ]
     },
     "execution_count": 26,
     "metadata": {},
     "output_type": "execute_result"
    }
   ],
   "source": [
    "fiftyplus"
   ]
  },
  {
   "cell_type": "code",
   "execution_count": 27,
   "id": "391fc16d",
   "metadata": {
    "scrolled": false
   },
   "outputs": [
    {
     "data": {
      "image/png": "[encoded data removed]",
      "text/plain": [
       "<Figure size 1080x360 with 1 Axes>"
      ]
     },
     "metadata": {
      "needs_background": "light"
     },
     "output_type": "display_data"
    }
   ],
   "source": [
    "fig = plt.figure(figsize = (15, 5))\n",
    "plt.bar(fiftyplus['batsman'],fiftyplus['50+ Scores'],color ='maroon',width = 0.4)\n",
    "plt.title('MOST 50+ Scores')\n",
    "plt.xlabel(\"PLAYER\")\n",
    "plt.ylabel(\"no. of 50+ Scores\")\n",
    "plt.show()"
   ]
  },
  {
   "cell_type": "markdown",
   "id": "59d5b232",
   "metadata": {},
   "source": [
    "# 2. TOP RIVALRIES"
   ]
  },
  {
   "cell_type": "markdown",
   "id": "5b5278be",
   "metadata": {},
   "source": [
    "# 2.1 BOWLERS DISMISSING A PARTICULAR BATSMAN MOST TIMES "
   ]
  },
  {
   "cell_type": "code",
   "execution_count": 28,
   "id": "4d7e6e42",
   "metadata": {
    "scrolled": false
   },
   "outputs": [],
   "source": [
    "BowlerData = BowlerWicketData[['bowler','is_wicket','dismissal_kind','player_dismissed']]"
   ]
  },
  {
   "cell_type": "code",
   "execution_count": 29,
   "id": "c5b361d2",
   "metadata": {
    "scrolled": false
   },
   "outputs": [],
   "source": [
    "bowlervsbatsman = BowlerData.groupby(['bowler','player_dismissed'])['is_wicket'].sum().sort_values(ascending = False).head(10)"
   ]
  },
  {
   "cell_type": "code",
   "execution_count": 30,
   "id": "9e776719",
   "metadata": {
    "scrolled": false
   },
   "outputs": [
    {
     "data": {
      "text/plain": [
       "bowler          player_dismissed\n",
       "Sandeep Sharma  V Kohli             7\n",
       "Z Khan          MS Dhoni            7\n",
       "PP Ojha         MS Dhoni            6\n",
       "B Kumar         PA Patel            6\n",
       "R Vinay Kumar   RG Sharma           6\n",
       "A Mishra        RG Sharma           6\n",
       "AR Patel        SR Watson           6\n",
       "A Mishra        SR Watson           6\n",
       "PP Chawla       AT Rayudu           6\n",
       "B Kumar         AM Rahane           6\n",
       "Name: is_wicket, dtype: int64"
      ]
     },
     "execution_count": 30,
     "metadata": {},
     "output_type": "execute_result"
    }
   ],
   "source": [
    "bowlervsbatsman"
   ]
  },
  {
   "cell_type": "code",
   "execution_count": 31,
   "id": "7849be1f",
   "metadata": {
    "scrolled": false
   },
   "outputs": [
    {
     "data": {
      "text/plain": [
       "<AxesSubplot:xlabel='bowler,player_dismissed'>"
      ]
     },
     "execution_count": 31,
     "metadata": {},
     "output_type": "execute_result"
    },
    {
     "data": {
      "image/png": "[encoded data removed]",
      "text/plain": [
       "<Figure size 432x288 with 1 Axes>"
      ]
     },
     "metadata": {
      "needs_background": "light"
     },
     "output_type": "display_data"
    }
   ],
   "source": [
    "bowlervsbatsman.plot(x='bowler',y='No.of wickets',kind='bar')"
   ]
  },
  {
   "cell_type": "markdown",
   "id": "9f9d97b2",
   "metadata": {},
   "source": [
    "# 2.2 BATSMEN SCORING MOST RUNS AGAINST A PARTICULAR BOWLER"
   ]
  },
  {
   "cell_type": "code",
   "execution_count": 32,
   "id": "e9ae3df0",
   "metadata": {
    "scrolled": false
   },
   "outputs": [],
   "source": [
    "batsmanvsbowler = B_Data.groupby(['batsman','bowler'])['batsman_runs'].sum().sort_values(ascending = False).head(10)"
   ]
  },
  {
   "cell_type": "code",
   "execution_count": 33,
   "id": "f3795fe9",
   "metadata": {
    "scrolled": false
   },
   "outputs": [
    {
     "data": {
      "text/plain": [
       "batsman     bowler         \n",
       "SK Raina    PP Chawla          175\n",
       "V Kohli     R Ashwin           160\n",
       "DA Warner   SP Narine          158\n",
       "V Kohli     A Mishra           158\n",
       "            DJ Bravo           151\n",
       "S Dhawan    Harbhajan Singh    147\n",
       "RG Sharma   PP Chawla          146\n",
       "            UT Yadav           143\n",
       "V Kohli     UT Yadav           141\n",
       "KA Pollard  A Mishra           135\n",
       "Name: batsman_runs, dtype: int64"
      ]
     },
     "execution_count": 33,
     "metadata": {},
     "output_type": "execute_result"
    }
   ],
   "source": [
    "batsmanvsbowler"
   ]
  },
  {
   "cell_type": "code",
   "execution_count": 34,
   "id": "53180dad",
   "metadata": {
    "scrolled": false
   },
   "outputs": [
    {
     "data": {
      "text/plain": [
       "<AxesSubplot:xlabel='batsman,bowler'>"
      ]
     },
     "execution_count": 34,
     "metadata": {},
     "output_type": "execute_result"
    },
    {
     "data": {
      "image/png": "[encoded data removed]",
      "text/plain": [
       "<Figure size 432x288 with 1 Axes>"
      ]
     },
     "metadata": {
      "needs_background": "light"
     },
     "output_type": "display_data"
    }
   ],
   "source": [
    "batsmanvsbowler.plot(x='batsman',y='batsman_runs',kind='bar')"
   ]
  },
  {
   "cell_type": "markdown",
   "id": "3dc96144",
   "metadata": {},
   "source": [
    "# 3. SOME BOWLERS STATS"
   ]
  },
  {
   "cell_type": "markdown",
   "id": "5647b70a",
   "metadata": {},
   "source": [
    "# 3.1 BOWLERS WHO GAVE MOST EXTRAS"
   ]
  },
  {
   "cell_type": "code",
   "execution_count": 35,
   "id": "19f8e954",
   "metadata": {
    "scrolled": false
   },
   "outputs": [],
   "source": [
    "extraruns = B_Data.groupby('bowler')['extra_runs'].sum().sort_values(ascending = False).head(10).reset_index()"
   ]
  },
  {
   "cell_type": "code",
   "execution_count": 36,
   "id": "3f79e468",
   "metadata": {
    "scrolled": false
   },
   "outputs": [
    {
     "data": {
      "text/html": [
       "<div>\n",
       "<style scoped>\n",
       "    .dataframe tbody tr th:only-of-type {\n",
       "        vertical-align: middle;\n",
       "    }\n",
       "\n",
       "    .dataframe tbody tr th {\n",
       "        vertical-align: top;\n",
       "    }\n",
       "\n",
       "    .dataframe thead th {\n",
       "        text-align: right;\n",
       "    }\n",
       "</style>\n",
       "<table border=\"1\" class=\"dataframe\">\n",
       "  <thead>\n",
       "    <tr style=\"text-align: right;\">\n",
       "      <th></th>\n",
       "      <th>bowler</th>\n",
       "      <th>extra_runs</th>\n",
       "    </tr>\n",
       "  </thead>\n",
       "  <tbody>\n",
       "    <tr>\n",
       "      <th>0</th>\n",
       "      <td>SL Malinga</td>\n",
       "      <td>293</td>\n",
       "    </tr>\n",
       "    <tr>\n",
       "      <th>1</th>\n",
       "      <td>P Kumar</td>\n",
       "      <td>236</td>\n",
       "    </tr>\n",
       "    <tr>\n",
       "      <th>2</th>\n",
       "      <td>UT Yadav</td>\n",
       "      <td>226</td>\n",
       "    </tr>\n",
       "    <tr>\n",
       "      <th>3</th>\n",
       "      <td>DJ Bravo</td>\n",
       "      <td>210</td>\n",
       "    </tr>\n",
       "    <tr>\n",
       "      <th>4</th>\n",
       "      <td>B Kumar</td>\n",
       "      <td>201</td>\n",
       "    </tr>\n",
       "    <tr>\n",
       "      <th>5</th>\n",
       "      <td>I Sharma</td>\n",
       "      <td>196</td>\n",
       "    </tr>\n",
       "    <tr>\n",
       "      <th>6</th>\n",
       "      <td>RP Singh</td>\n",
       "      <td>181</td>\n",
       "    </tr>\n",
       "    <tr>\n",
       "      <th>7</th>\n",
       "      <td>DW Steyn</td>\n",
       "      <td>177</td>\n",
       "    </tr>\n",
       "    <tr>\n",
       "      <th>8</th>\n",
       "      <td>R Ashwin</td>\n",
       "      <td>175</td>\n",
       "    </tr>\n",
       "    <tr>\n",
       "      <th>9</th>\n",
       "      <td>SR Watson</td>\n",
       "      <td>171</td>\n",
       "    </tr>\n",
       "  </tbody>\n",
       "</table>\n",
       "</div>"
      ],
      "text/plain": [
       "       bowler  extra_runs\n",
       "0  SL Malinga         293\n",
       "1     P Kumar         236\n",
       "2    UT Yadav         226\n",
       "3    DJ Bravo         210\n",
       "4     B Kumar         201\n",
       "5    I Sharma         196\n",
       "6    RP Singh         181\n",
       "7    DW Steyn         177\n",
       "8    R Ashwin         175\n",
       "9   SR Watson         171"
      ]
     },
     "execution_count": 36,
     "metadata": {},
     "output_type": "execute_result"
    }
   ],
   "source": [
    "extraruns"
   ]
  },
  {
   "cell_type": "code",
   "execution_count": 37,
   "id": "6d94a0a3",
   "metadata": {
    "scrolled": false
   },
   "outputs": [
    {
     "data": {
      "image/png": "[encoded data removed]",
      "text/plain": [
       "<Figure size 1080x360 with 1 Axes>"
      ]
     },
     "metadata": {
      "needs_background": "light"
     },
     "output_type": "display_data"
    }
   ],
   "source": [
    "fig = plt.figure(figsize = (15, 5))\n",
    "plt.bar(extraruns['bowler'],extraruns['extra_runs'],color ='maroon',width = 0.4)\n",
    "plt.title('BOWLERS WHO GAVE MOST EXTRAS')\n",
    "plt.xlabel(\"Bowlers\")\n",
    "plt.ylabel(\"no. of extras given\")\n",
    "plt.show()"
   ]
  },
  {
   "cell_type": "markdown",
   "id": "ebb1ed74",
   "metadata": {},
   "source": [
    "# 3.2 BOWLERS CONCEIVING MOST BOUNDARIES"
   ]
  },
  {
   "cell_type": "code",
   "execution_count": 38,
   "id": "3fd9f426",
   "metadata": {
    "scrolled": false
   },
   "outputs": [],
   "source": [
    "BoundaryData = B_Data[B_Data['batsman_runs'].isin([4,6])].reset_index()"
   ]
  },
  {
   "cell_type": "code",
   "execution_count": 39,
   "id": "cc81957e",
   "metadata": {
    "scrolled": false
   },
   "outputs": [],
   "source": [
    "mostboundaries = BoundaryData.groupby('bowler')['batsman_runs'].count().sort_values(ascending = False).head(10).reset_index().rename(columns={'batsman_runs':'Boundaries Conceived'})"
   ]
  },
  {
   "cell_type": "code",
   "execution_count": 40,
   "id": "d4b2e4a1",
   "metadata": {
    "scrolled": false
   },
   "outputs": [
    {
     "data": {
      "text/html": [
       "<div>\n",
       "<style scoped>\n",
       "    .dataframe tbody tr th:only-of-type {\n",
       "        vertical-align: middle;\n",
       "    }\n",
       "\n",
       "    .dataframe tbody tr th {\n",
       "        vertical-align: top;\n",
       "    }\n",
       "\n",
       "    .dataframe thead th {\n",
       "        text-align: right;\n",
       "    }\n",
       "</style>\n",
       "<table border=\"1\" class=\"dataframe\">\n",
       "  <thead>\n",
       "    <tr style=\"text-align: right;\">\n",
       "      <th></th>\n",
       "      <th>bowler</th>\n",
       "      <th>Boundaries Conceived</th>\n",
       "    </tr>\n",
       "  </thead>\n",
       "  <tbody>\n",
       "    <tr>\n",
       "      <th>0</th>\n",
       "      <td>UT Yadav</td>\n",
       "      <td>509</td>\n",
       "    </tr>\n",
       "    <tr>\n",
       "      <th>1</th>\n",
       "      <td>PP Chawla</td>\n",
       "      <td>497</td>\n",
       "    </tr>\n",
       "    <tr>\n",
       "      <th>2</th>\n",
       "      <td>DJ Bravo</td>\n",
       "      <td>443</td>\n",
       "    </tr>\n",
       "    <tr>\n",
       "      <th>3</th>\n",
       "      <td>P Kumar</td>\n",
       "      <td>442</td>\n",
       "    </tr>\n",
       "    <tr>\n",
       "      <th>4</th>\n",
       "      <td>Harbhajan Singh</td>\n",
       "      <td>431</td>\n",
       "    </tr>\n",
       "    <tr>\n",
       "      <th>5</th>\n",
       "      <td>B Kumar</td>\n",
       "      <td>424</td>\n",
       "    </tr>\n",
       "    <tr>\n",
       "      <th>6</th>\n",
       "      <td>SL Malinga</td>\n",
       "      <td>400</td>\n",
       "    </tr>\n",
       "    <tr>\n",
       "      <th>7</th>\n",
       "      <td>A Mishra</td>\n",
       "      <td>394</td>\n",
       "    </tr>\n",
       "    <tr>\n",
       "      <th>8</th>\n",
       "      <td>R Vinay Kumar</td>\n",
       "      <td>394</td>\n",
       "    </tr>\n",
       "    <tr>\n",
       "      <th>9</th>\n",
       "      <td>I Sharma</td>\n",
       "      <td>378</td>\n",
       "    </tr>\n",
       "  </tbody>\n",
       "</table>\n",
       "</div>"
      ],
      "text/plain": [
       "            bowler  Boundaries Conceived\n",
       "0         UT Yadav                   509\n",
       "1        PP Chawla                   497\n",
       "2         DJ Bravo                   443\n",
       "3          P Kumar                   442\n",
       "4  Harbhajan Singh                   431\n",
       "5          B Kumar                   424\n",
       "6       SL Malinga                   400\n",
       "7         A Mishra                   394\n",
       "8    R Vinay Kumar                   394\n",
       "9         I Sharma                   378"
      ]
     },
     "execution_count": 40,
     "metadata": {},
     "output_type": "execute_result"
    }
   ],
   "source": [
    "mostboundaries"
   ]
  },
  {
   "cell_type": "code",
   "execution_count": 41,
   "id": "d673d174",
   "metadata": {
    "scrolled": false
   },
   "outputs": [
    {
     "data": {
      "image/png": "[encoded data removed]",
      "text/plain": [
       "<Figure size 1080x360 with 1 Axes>"
      ]
     },
     "metadata": {
      "needs_background": "light"
     },
     "output_type": "display_data"
    }
   ],
   "source": [
    "fig = plt.figure(figsize = (15, 5))\n",
    "plt.bar(mostboundaries['bowler'],mostboundaries['Boundaries Conceived'],color ='maroon',width = 0.4)\n",
    "plt.title('BOWLERS CONCEIVING MOST BOUNDARIES')\n",
    "plt.xlabel(\"Bowlers\")\n",
    "plt.ylabel(\"Boundaries Conceived\")\n",
    "plt.show()"
   ]
  },
  {
   "cell_type": "markdown",
   "id": "63fc477c",
   "metadata": {},
   "source": [
    "# 4. OTHER STATS"
   ]
  },
  {
   "cell_type": "markdown",
   "id": "c0c39b8d",
   "metadata": {},
   "source": [
    "# 4.1 TOP 5 VENUES WITH MOST MATCHES "
   ]
  },
  {
   "cell_type": "code",
   "execution_count": 42,
   "id": "32e08c21",
   "metadata": {
    "scrolled": false
   },
   "outputs": [],
   "source": [
    "venuedata = M_Data.groupby('venue')['id'].count().sort_values(ascending = False).head(5).reset_index().rename(columns={'id':'Matches'})"
   ]
  },
  {
   "cell_type": "code",
   "execution_count": 43,
   "id": "9c61a26c",
   "metadata": {
    "scrolled": false
   },
   "outputs": [
    {
     "data": {
      "text/html": [
       "<div>\n",
       "<style scoped>\n",
       "    .dataframe tbody tr th:only-of-type {\n",
       "        vertical-align: middle;\n",
       "    }\n",
       "\n",
       "    .dataframe tbody tr th {\n",
       "        vertical-align: top;\n",
       "    }\n",
       "\n",
       "    .dataframe thead th {\n",
       "        text-align: right;\n",
       "    }\n",
       "</style>\n",
       "<table border=\"1\" class=\"dataframe\">\n",
       "  <thead>\n",
       "    <tr style=\"text-align: right;\">\n",
       "      <th></th>\n",
       "      <th>venue</th>\n",
       "      <th>Matches</th>\n",
       "    </tr>\n",
       "  </thead>\n",
       "  <tbody>\n",
       "    <tr>\n",
       "      <th>0</th>\n",
       "      <td>Eden Gardens</td>\n",
       "      <td>77</td>\n",
       "    </tr>\n",
       "    <tr>\n",
       "      <th>1</th>\n",
       "      <td>Feroz Shah Kotla</td>\n",
       "      <td>74</td>\n",
       "    </tr>\n",
       "    <tr>\n",
       "      <th>2</th>\n",
       "      <td>Wankhede Stadium</td>\n",
       "      <td>73</td>\n",
       "    </tr>\n",
       "    <tr>\n",
       "      <th>3</th>\n",
       "      <td>M Chinnaswamy Stadium</td>\n",
       "      <td>65</td>\n",
       "    </tr>\n",
       "    <tr>\n",
       "      <th>4</th>\n",
       "      <td>Rajiv Gandhi International Stadium, Uppal</td>\n",
       "      <td>64</td>\n",
       "    </tr>\n",
       "  </tbody>\n",
       "</table>\n",
       "</div>"
      ],
      "text/plain": [
       "                                       venue  Matches\n",
       "0                               Eden Gardens       77\n",
       "1                           Feroz Shah Kotla       74\n",
       "2                           Wankhede Stadium       73\n",
       "3                      M Chinnaswamy Stadium       65\n",
       "4  Rajiv Gandhi International Stadium, Uppal       64"
      ]
     },
     "execution_count": 43,
     "metadata": {},
     "output_type": "execute_result"
    }
   ],
   "source": [
    "venuedata"
   ]
  },
  {
   "cell_type": "code",
   "execution_count": 51,
   "id": "638b34f7",
   "metadata": {
    "scrolled": false
   },
   "outputs": [
    {
     "data": {
      "image/png": "[encoded data removed]",
      "text/plain": [
       "<Figure size 1440x360 with 1 Axes>"
      ]
     },
     "metadata": {
      "needs_background": "light"
     },
     "output_type": "display_data"
    }
   ],
   "source": [
    "fig = plt.figure(figsize = (20, 5))\n",
    "plt.bar(venuedata['venue'],venuedata['Matches'],color ='maroon',width = 0.4)\n",
    "plt.title('STADIUMS WITH MOST MATCHES')\n",
    "plt.xlabel(\"venues\")\n",
    "plt.ylabel(\"Matches\")\n",
    "plt.show()"
   ]
  },
  {
   "cell_type": "markdown",
   "id": "14afdbb9",
   "metadata": {},
   "source": [
    "# 4.2 BATTING FIRST VS BATTING SECOND "
   ]
  },
  {
   "cell_type": "code",
   "execution_count": 45,
   "id": "f3bddcfb",
   "metadata": {
    "scrolled": false
   },
   "outputs": [],
   "source": [
    "Batting_first = M_Data[M_Data['result']=='runs']['id'].count()"
   ]
  },
  {
   "cell_type": "code",
   "execution_count": 46,
   "id": "e2a4c0a7",
   "metadata": {
    "scrolled": false
   },
   "outputs": [
    {
     "data": {
      "text/plain": [
       "364"
      ]
     },
     "execution_count": 46,
     "metadata": {},
     "output_type": "execute_result"
    }
   ],
   "source": [
    "Batting_first"
   ]
  },
  {
   "cell_type": "code",
   "execution_count": 47,
   "id": "e9cdc8dd",
   "metadata": {
    "scrolled": false
   },
   "outputs": [],
   "source": [
    "Batting_second = M_Data[M_Data['result']=='wickets']['id'].count()"
   ]
  },
  {
   "cell_type": "code",
   "execution_count": 48,
   "id": "275a0509",
   "metadata": {
    "scrolled": false
   },
   "outputs": [
    {
     "data": {
      "text/plain": [
       "435"
      ]
     },
     "execution_count": 48,
     "metadata": {},
     "output_type": "execute_result"
    }
   ],
   "source": [
    "Batting_second"
   ]
  },
  {
   "cell_type": "code",
   "execution_count": 49,
   "id": "69fd0d15",
   "metadata": {
    "scrolled": false
   },
   "outputs": [
    {
     "data": {
      "image/png": "[encoded data removed]",
      "text/plain": [
       "<Figure size 720x504 with 1 Axes>"
      ]
     },
     "metadata": {},
     "output_type": "display_data"
    }
   ],
   "source": [
    "def func(pct, allvalues):\n",
    "    absolute = int(pct / 100.*np.sum(allvalues))\n",
    "    return \"{:.1f}%\\n({:d} Wins)\".format(pct, absolute)\n",
    "y =[364,435]\n",
    "mylabels = [\"Batting First\", \"Batting Second\"]\n",
    "fig, ax = plt.subplots(figsize =(10, 7))\n",
    "ax.pie(y,autopct = lambda pct: func(pct, y),labels = mylabels,startangle = 90)\n",
    "                                  \n",
    "plt.show() "
   ]
  },
  {
   "cell_type": "markdown",
   "id": "d83e5960",
   "metadata": {},
   "source": [
    "# 4.3 Five Most Expensive Overs in IPL history"
   ]
  },
  {
   "cell_type": "code",
   "execution_count": 50,
   "id": "1bbc4168",
   "metadata": {
    "scrolled": false
   },
   "outputs": [
    {
     "data": {
      "text/html": [
       "<div>\n",
       "<style scoped>\n",
       "    .dataframe tbody tr th:only-of-type {\n",
       "        vertical-align: middle;\n",
       "    }\n",
       "\n",
       "    .dataframe tbody tr th {\n",
       "        vertical-align: top;\n",
       "    }\n",
       "\n",
       "    .dataframe thead th {\n",
       "        text-align: right;\n",
       "    }\n",
       "</style>\n",
       "<table border=\"1\" class=\"dataframe\">\n",
       "  <thead>\n",
       "    <tr style=\"text-align: right;\">\n",
       "      <th></th>\n",
       "      <th>id</th>\n",
       "      <th>inning</th>\n",
       "      <th>over</th>\n",
       "      <th>bowler</th>\n",
       "      <th>batsman_runs</th>\n",
       "    </tr>\n",
       "  </thead>\n",
       "  <tbody>\n",
       "    <tr>\n",
       "      <th>0</th>\n",
       "      <td>501247</td>\n",
       "      <td>2</td>\n",
       "      <td>2</td>\n",
       "      <td>P Parameswaran</td>\n",
       "      <td>36</td>\n",
       "    </tr>\n",
       "    <tr>\n",
       "      <th>1</th>\n",
       "      <td>734047</td>\n",
       "      <td>2</td>\n",
       "      <td>5</td>\n",
       "      <td>P Awana</td>\n",
       "      <td>32</td>\n",
       "    </tr>\n",
       "    <tr>\n",
       "      <th>2</th>\n",
       "      <td>548327</td>\n",
       "      <td>2</td>\n",
       "      <td>12</td>\n",
       "      <td>R Sharma</td>\n",
       "      <td>31</td>\n",
       "    </tr>\n",
       "    <tr>\n",
       "      <th>3</th>\n",
       "      <td>335988</td>\n",
       "      <td>2</td>\n",
       "      <td>12</td>\n",
       "      <td>A Symonds</td>\n",
       "      <td>30</td>\n",
       "    </tr>\n",
       "    <tr>\n",
       "      <th>4</th>\n",
       "      <td>980987</td>\n",
       "      <td>1</td>\n",
       "      <td>18</td>\n",
       "      <td>S Kaushik</td>\n",
       "      <td>30</td>\n",
       "    </tr>\n",
       "  </tbody>\n",
       "</table>\n",
       "</div>"
      ],
      "text/plain": [
       "       id  inning  over          bowler  batsman_runs\n",
       "0  501247       2     2  P Parameswaran            36\n",
       "1  734047       2     5         P Awana            32\n",
       "2  548327       2    12        R Sharma            31\n",
       "3  335988       2    12       A Symonds            30\n",
       "4  980987       1    18       S Kaushik            30"
      ]
     },
     "execution_count": 50,
     "metadata": {},
     "output_type": "execute_result"
    }
   ],
   "source": [
    "B_Data.groupby(['id','inning','over','bowler'])['batsman_runs'].sum().sort_values(ascending = False).head(5).reset_index()"
   ]
  },
  {
   "cell_type": "code",
   "execution_count": null,
   "id": "bf51597a",
   "metadata": {
    "scrolled": false
   },
   "outputs": [],
   "source": []
  }
 ],
 "metadata": {
  "kernelspec": {
   "display_name": "Python 3 (ipykernel)",
   "language": "python",
   "name": "python3"
  },
  "language_info": {
   "codemirror_mode": {
    "name": "ipython",
    "version": 3
   },
   "file_extension": ".py",
   "mimetype": "text/x-python",
   "name": "python",
   "nbconvert_exporter": "python",
   "pygments_lexer": "ipython3",
   "version": "3.9.7"
  }
 },
 "nbformat": 4,
 "nbformat_minor": 5
}
